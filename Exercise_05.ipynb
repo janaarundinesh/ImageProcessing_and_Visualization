{
 "cells": [
  {
   "cell_type": "code",
   "execution_count": 3,
   "metadata": {},
   "outputs": [
    {
     "ename": "AttributeError",
     "evalue": "'NoneType' object has no attribute 'shape'",
     "output_type": "error",
     "traceback": [
      "\u001b[1;31m---------------------------------------------------------------------------\u001b[0m",
      "\u001b[1;31mAttributeError\u001b[0m                            Traceback (most recent call last)",
      "\u001b[1;32me:\\Universitat\\Exams\\ImageProcessing_and_Visualization\\Exercise_05.ipynb Cell 1\u001b[0m line \u001b[0;36m2\n\u001b[0;32m     <a href='vscode-notebook-cell:/e%3A/Universitat/Exams/ImageProcessing_and_Visualization/Exercise_05.ipynb#W0sZmlsZQ%3D%3D?line=22'>23</a>\u001b[0m original_image \u001b[39m=\u001b[39m cv2\u001b[39m.\u001b[39mimread(image_path)\n\u001b[0;32m     <a href='vscode-notebook-cell:/e%3A/Universitat/Exams/ImageProcessing_and_Visualization/Exercise_05.ipynb#W0sZmlsZQ%3D%3D?line=24'>25</a>\u001b[0m \u001b[39m# Compute Sobel gradient\u001b[39;00m\n\u001b[1;32m---> <a href='vscode-notebook-cell:/e%3A/Universitat/Exams/ImageProcessing_and_Visualization/Exercise_05.ipynb#W0sZmlsZQ%3D%3D?line=25'>26</a>\u001b[0m gradient_x, gradient_y, gradient_magnitude \u001b[39m=\u001b[39m sobel_gradient(original_image)\n\u001b[0;32m     <a href='vscode-notebook-cell:/e%3A/Universitat/Exams/ImageProcessing_and_Visualization/Exercise_05.ipynb#W0sZmlsZQ%3D%3D?line=27'>28</a>\u001b[0m \u001b[39m# Convert the images from BGR to RGB (for displaying with matplotlib)\u001b[39;00m\n\u001b[0;32m     <a href='vscode-notebook-cell:/e%3A/Universitat/Exams/ImageProcessing_and_Visualization/Exercise_05.ipynb#W0sZmlsZQ%3D%3D?line=28'>29</a>\u001b[0m image_rgb \u001b[39m=\u001b[39m cv2\u001b[39m.\u001b[39mcvtColor(original_image, cv2\u001b[39m.\u001b[39mCOLOR_BGR2RGB)\n",
      "\u001b[1;32me:\\Universitat\\Exams\\ImageProcessing_and_Visualization\\Exercise_05.ipynb Cell 1\u001b[0m line \u001b[0;36m7\n\u001b[0;32m      <a href='vscode-notebook-cell:/e%3A/Universitat/Exams/ImageProcessing_and_Visualization/Exercise_05.ipynb#W0sZmlsZQ%3D%3D?line=4'>5</a>\u001b[0m \u001b[39mdef\u001b[39;00m \u001b[39msobel_gradient\u001b[39m(image):\n\u001b[0;32m      <a href='vscode-notebook-cell:/e%3A/Universitat/Exams/ImageProcessing_and_Visualization/Exercise_05.ipynb#W0sZmlsZQ%3D%3D?line=5'>6</a>\u001b[0m     \u001b[39m# Convert the image to grayscale if it's a color image\u001b[39;00m\n\u001b[1;32m----> <a href='vscode-notebook-cell:/e%3A/Universitat/Exams/ImageProcessing_and_Visualization/Exercise_05.ipynb#W0sZmlsZQ%3D%3D?line=6'>7</a>\u001b[0m     \u001b[39mif\u001b[39;00m \u001b[39mlen\u001b[39m(image\u001b[39m.\u001b[39;49mshape) \u001b[39m==\u001b[39m \u001b[39m3\u001b[39m:\n\u001b[0;32m      <a href='vscode-notebook-cell:/e%3A/Universitat/Exams/ImageProcessing_and_Visualization/Exercise_05.ipynb#W0sZmlsZQ%3D%3D?line=7'>8</a>\u001b[0m         image_gray \u001b[39m=\u001b[39m cv2\u001b[39m.\u001b[39mcvtColor(image, cv2\u001b[39m.\u001b[39mCOLOR_BGR2GRAY)\n\u001b[0;32m      <a href='vscode-notebook-cell:/e%3A/Universitat/Exams/ImageProcessing_and_Visualization/Exercise_05.ipynb#W0sZmlsZQ%3D%3D?line=8'>9</a>\u001b[0m     \u001b[39melse\u001b[39;00m:\n",
      "\u001b[1;31mAttributeError\u001b[0m: 'NoneType' object has no attribute 'shape'"
     ]
    }
   ],
   "source": [
    "import cv2\n",
    "import numpy as np\n",
    "import matplotlib.pyplot as plt\n",
    "\n",
    "def sobel_gradient(image):\n",
    "    # Convert the image to grayscale if it's a color image\n",
    "    if len(image.shape) == 3:\n",
    "        image_gray = cv2.cvtColor(image, cv2.COLOR_BGR2GRAY)\n",
    "    else:\n",
    "        image_gray = image\n",
    "\n",
    "    # Compute the horizontal and vertical gradients using Sobel\n",
    "    gradient_x = cv2.Sobel(image_gray, cv2.CV_64F, 1, 0, ksize=3)\n",
    "    gradient_y = cv2.Sobel(image_gray, cv2.CV_64F, 0, 1, ksize=3)\n",
    "\n",
    "    # Compute the magnitude of the gradient\n",
    "    gradient_magnitude = np.sqrt(gradient_x**2 + gradient_y**2)\n",
    "\n",
    "    return gradient_x, gradient_y, gradient_magnitude\n",
    "\n",
    "# Load the original image\n",
    "image_path = r\"E:\\Universitat\\Exams\\Virtual_Imaging\\Sobel_Gradient.jpeg\"\n",
    "original_image = cv2.imread(image_path)\n",
    "\n",
    "# Compute Sobel gradient\n",
    "gradient_x, gradient_y, gradient_magnitude = sobel_gradient(original_image)\n",
    "\n",
    "# Convert the images from BGR to RGB (for displaying with matplotlib)\n",
    "image_rgb = cv2.cvtColor(original_image, cv2.COLOR_BGR2RGB)\n",
    "\n",
    "# Display the images using matplotlib\n",
    "plt.figure(figsize=(12, 6))\n",
    "\n",
    "plt.subplot(1, 4, 1)\n",
    "plt.title('Original Image')\n",
    "plt.imshow(image_rgb)\n",
    "plt.axis('off')\n",
    "\n",
    "plt.subplot(1, 4, 2)\n",
    "plt.title('Sobel Gradient X')\n",
    "plt.imshow(np.abs(gradient_x), cmap='gray')\n",
    "plt.axis('off')\n",
    "\n",
    "plt.subplot(1, 4, 3)\n",
    "plt.title('Sobel Gradient Y')\n",
    "plt.imshow(np.abs(gradient_y), cmap='gray')\n",
    "plt.axis('off')\n",
    "\n",
    "plt.subplot(1, 4, 4)\n",
    "plt.title('Gradient Magnitude')\n",
    "plt.imshow(gradient_magnitude, cmap='gray')\n",
    "plt.axis('off')\n",
    "\n",
    "plt.show()\n"
   ]
  }
 ],
 "metadata": {
  "kernelspec": {
   "display_name": "Python 3",
   "language": "python",
   "name": "python3"
  },
  "language_info": {
   "codemirror_mode": {
    "name": "ipython",
    "version": 3
   },
   "file_extension": ".py",
   "mimetype": "text/x-python",
   "name": "python",
   "nbconvert_exporter": "python",
   "pygments_lexer": "ipython3",
   "version": "3.11.7"
  }
 },
 "nbformat": 4,
 "nbformat_minor": 2
}
